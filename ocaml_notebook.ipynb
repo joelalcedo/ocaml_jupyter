{
 "cells": [
  {
   "cell_type": "code",
   "execution_count": 1,
   "id": "a05d4937",
   "metadata": {
    "vscode": {
     "languageId": "ocaml"
    }
   },
   "outputs": [
    {
     "data": {
      "text/plain": [
       "val squares : int list = [0; 1; 4; 9; 16]\n"
      ]
     },
     "execution_count": 1,
     "metadata": {},
     "output_type": "execute_result"
    },
    {
     "data": {
      "text/plain": [
       "- : int list = [0; 1; 4; 9; 16]\n"
      ]
     },
     "execution_count": 1,
     "metadata": {},
     "output_type": "execute_result"
    }
   ],
   "source": [
    "let squares = List.init 5 (fun i -> i * i);;\n",
    "squares;;\n",
    "\n"
   ]
  },
  {
   "cell_type": "code",
   "execution_count": null,
   "id": "657cbd00",
   "metadata": {
    "vscode": {
     "languageId": "ocaml"
    }
   },
   "outputs": [
    {
     "data": {
      "text/plain": [
       "val fib_seq : int -> int list = <fun>\n"
      ]
     },
     "execution_count": 4,
     "metadata": {},
     "output_type": "execute_result"
    },
    {
     "data": {
      "text/plain": [
       "- : int list = [0; 1; 1; 2; 3]\n"
      ]
     },
     "execution_count": 4,
     "metadata": {},
     "output_type": "execute_result"
    }
   ],
   "source": [
    "let fib_seq n =\n",
    "  let rec aux i a b acc =\n",
    "    if i = n then List.rev acc\n",
    "    else aux (i + 1) b (a + b) (a :: acc)\n",
    "  in\n",
    "  if n <= 0 then []\n",
    "  else aux 0 0 1 [];;\n",
    "\n",
    "fib_seq 5;;"
   ]
  }
 ],
 "metadata": {
  "kernelspec": {
   "display_name": "OCaml /Users/joelalcedo/Documents/development/ocaml_jupyter",
   "language": "OCaml",
   "name": "ocaml-jupyter"
  },
  "language_info": {
   "codemirror_mode": "text/x-ocaml",
   "file_extension": ".ml",
   "mimetype": "text/x-ocaml",
   "name": "OCaml",
   "nbconverter_exporter": null,
   "pygments_lexer": "OCaml",
   "version": "4.14.2"
  }
 },
 "nbformat": 4,
 "nbformat_minor": 5
}
